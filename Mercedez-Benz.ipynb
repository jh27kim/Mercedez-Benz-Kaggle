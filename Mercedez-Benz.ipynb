{
 "cells": [
  {
   "cell_type": "code",
   "execution_count": 121,
   "id": "located-booth",
   "metadata": {},
   "outputs": [],
   "source": [
    "import pandas as pd\n",
    "import numpy as np\n",
    "import matplotlib.pyplot as plt"
   ]
  },
  {
   "cell_type": "code",
   "execution_count": 122,
   "id": "combined-merchandise",
   "metadata": {},
   "outputs": [],
   "source": [
    "from sklearn.model_selection import train_test_split\n",
    "\n",
    "df = pd.read_csv('train.csv')\n",
    "df = df.set_index('ID')\n",
    "\n",
    "label = df['y']\n",
    "df.drop('y', axis=1, inplace=True)\n",
    "\n",
    "df, df_val, y, y_val = train_test_split(df, label, test_size=0.25, random_state=42)"
   ]
  },
  {
   "cell_type": "code",
   "execution_count": 123,
   "id": "engaging-curtis",
   "metadata": {},
   "outputs": [
    {
     "name": "stdout",
     "output_type": "stream",
     "text": [
      "  Count Column Type\n",
      "0    X0      object\n",
      "1    X1      object\n",
      "2    X2      object\n",
      "3    X3      object\n",
      "4    X4      object\n",
      "5    X5      object\n",
      "6    X6      object\n",
      "7    X8      object\n",
      "8   X10       int64\n",
      "9   X11       int64\n",
      "\n",
      "  Column Type  Count\n",
      "0       int64    368\n",
      "1      object      8\n"
     ]
    }
   ],
   "source": [
    "dtype_df = df.dtypes.reset_index()\n",
    "dtype_df.columns = [\"Count\", \"Column Type\"]\n",
    "print(dtype_df.iloc[:10])\n",
    "print()\n",
    "dtype_df = dtype_df.groupby([\"Column Type\"]).aggregate('count').reset_index()\n",
    "print(dtype_df)"
   ]
  },
  {
   "cell_type": "code",
   "execution_count": 124,
   "id": "furnished-librarian",
   "metadata": {},
   "outputs": [
    {
     "data": {
      "text/plain": [
       "<AxesSubplot:>"
      ]
     },
     "execution_count": 124,
     "metadata": {},
     "output_type": "execute_result"
    },
    {
     "data": {
      "image/png": "[encoded data removed]",
      "text/plain": [
       "<Figure size 432x288 with 1 Axes>"
      ]
     },
     "metadata": {
      "needs_background": "light"
     },
     "output_type": "display_data"
    }
   ],
   "source": [
    "categorical = []\n",
    "\n",
    "for i in range(len(df.columns)):\n",
    "    if df[df.columns[i]].dtype.name == 'object':\n",
    "        categorical.append(df.columns[i])\n",
    "\n",
    "dist = df[categorical[0]].value_counts().sort_values(ascending=False)\n",
    "dist.plot.bar()"
   ]
  },
  {
   "cell_type": "code",
   "execution_count": 120,
   "id": "atomic-favorite",
   "metadata": {},
   "outputs": [
    {
     "name": "stdout",
     "output_type": "stream",
     "text": [
      "[0, 1]\n",
      "['X10', 'X12', 'X13', 'X14', 'X15', 'X16', 'X17', 'X18', 'X19', 'X20', 'X21', 'X22', 'X23', 'X24', 'X26', 'X27', 'X28', 'X29', 'X30', 'X31', 'X32', 'X33', 'X34', 'X35', 'X36', 'X37', 'X38', 'X39', 'X40', 'X41', 'X42', 'X43', 'X44', 'X45', 'X46', 'X47', 'X48', 'X49', 'X50', 'X51', 'X52', 'X53', 'X54', 'X55', 'X56', 'X57', 'X58', 'X59', 'X60', 'X61', 'X62', 'X63', 'X64', 'X65', 'X66', 'X67', 'X68', 'X69', 'X70', 'X71', 'X73', 'X74', 'X75', 'X76', 'X77', 'X78', 'X79', 'X80', 'X81', 'X82', 'X83', 'X84', 'X85', 'X86', 'X87', 'X88', 'X89', 'X90', 'X91', 'X92', 'X94', 'X95', 'X96', 'X97', 'X98', 'X99', 'X100', 'X101', 'X102', 'X103', 'X104', 'X105', 'X106', 'X108', 'X109', 'X110', 'X111', 'X112', 'X113', 'X114', 'X115', 'X116', 'X117', 'X118', 'X119', 'X120', 'X122', 'X123', 'X124', 'X125', 'X126', 'X127', 'X128', 'X129', 'X130', 'X131', 'X132', 'X133', 'X134', 'X135', 'X136', 'X137', 'X138', 'X139', 'X140', 'X141', 'X142', 'X143', 'X144', 'X145', 'X146', 'X147', 'X148', 'X150', 'X151', 'X152', 'X153', 'X154', 'X155', 'X156', 'X157', 'X158', 'X159', 'X160', 'X161', 'X162', 'X163', 'X164', 'X165', 'X166', 'X167', 'X168', 'X169', 'X170', 'X171', 'X172', 'X173', 'X174', 'X175', 'X176', 'X177', 'X178', 'X179', 'X180', 'X181', 'X182', 'X183', 'X184', 'X185', 'X186', 'X187', 'X189', 'X190', 'X191', 'X192', 'X194', 'X195', 'X196', 'X197', 'X198', 'X199', 'X200', 'X201', 'X202', 'X203', 'X204', 'X205', 'X206', 'X207', 'X208', 'X209', 'X210', 'X211', 'X212', 'X213', 'X214', 'X215', 'X216', 'X217', 'X218', 'X219', 'X220', 'X221', 'X222', 'X223', 'X224', 'X225', 'X226', 'X227', 'X228', 'X229', 'X230', 'X231', 'X232', 'X234', 'X237', 'X238', 'X239', 'X240', 'X241', 'X242', 'X243', 'X244', 'X245', 'X246', 'X247', 'X248', 'X249', 'X250', 'X251', 'X252', 'X253', 'X254', 'X255', 'X256', 'X257', 'X258', 'X259', 'X260', 'X261', 'X262', 'X263', 'X264', 'X265', 'X266', 'X267', 'X269', 'X270', 'X271', 'X272', 'X273', 'X274', 'X275', 'X276', 'X277', 'X278', 'X279', 'X280', 'X281', 'X282', 'X283', 'X284', 'X285', 'X286', 'X287', 'X291', 'X292', 'X294', 'X298', 'X299', 'X300', 'X301', 'X302', 'X304', 'X305', 'X306', 'X307', 'X308', 'X309', 'X310', 'X311', 'X312', 'X313', 'X314', 'X315', 'X316', 'X317', 'X318', 'X320', 'X321', 'X322', 'X323', 'X324', 'X325', 'X326', 'X327', 'X328', 'X329', 'X331', 'X332', 'X333', 'X334', 'X335', 'X336', 'X337', 'X338', 'X340', 'X341', 'X342', 'X343', 'X344', 'X345', 'X346', 'X348', 'X349', 'X350', 'X351', 'X352', 'X353', 'X354', 'X355', 'X356', 'X357', 'X358', 'X359', 'X360', 'X361', 'X362', 'X363', 'X364', 'X365', 'X366', 'X367', 'X368', 'X369', 'X370', 'X371', 'X372', 'X373', 'X374', 'X375', 'X376', 'X377', 'X378', 'X379', 'X380', 'X382', 'X383', 'X384', 'X385']\n",
      "\n",
      "[0]\n",
      "['X11', 'X93', 'X107', 'X233', 'X235', 'X236', 'X268', 'X288', 'X289', 'X290', 'X293', 'X295', 'X296', 'X297', 'X319', 'X330', 'X339', 'X347']\n",
      "\n"
     ]
    },
    {
     "ename": "KeyError",
     "evalue": "\"['X11' 'X93' 'X107' 'X233' 'X235' 'X236' 'X268' 'X288' 'X289' 'X290'\\n 'X293' 'X295' 'X296' 'X297' 'X319' 'X330' 'X339' 'X347'] not found in axis\"",
     "output_type": "error",
     "traceback": [
      "\u001b[1;31m---------------------------------------------------------------------------\u001b[0m",
      "\u001b[1;31mKeyError\u001b[0m                                  Traceback (most recent call last)",
      "\u001b[1;32m<ipython-input-120-c37aa51f406e>\u001b[0m in \u001b[0;36m<module>\u001b[1;34m\u001b[0m\n\u001b[0;32m     16\u001b[0m \u001b[1;31m#Drop Columns with all zeros\u001b[0m\u001b[1;33m\u001b[0m\u001b[1;33m\u001b[0m\u001b[1;33m\u001b[0m\u001b[0m\n\u001b[0;32m     17\u001b[0m \u001b[0mzero_cols\u001b[0m \u001b[1;33m=\u001b[0m \u001b[0munique_dict\u001b[0m\u001b[1;33m.\u001b[0m\u001b[0mget\u001b[0m\u001b[1;33m(\u001b[0m\u001b[1;34m'[0]'\u001b[0m\u001b[1;33m)\u001b[0m\u001b[1;33m\u001b[0m\u001b[1;33m\u001b[0m\u001b[0m\n\u001b[1;32m---> 18\u001b[1;33m \u001b[0mdf\u001b[0m \u001b[1;33m=\u001b[0m \u001b[0mdf\u001b[0m\u001b[1;33m.\u001b[0m\u001b[0mdrop\u001b[0m\u001b[1;33m(\u001b[0m\u001b[0mzero_cols\u001b[0m\u001b[1;33m)\u001b[0m\u001b[1;33m\u001b[0m\u001b[1;33m\u001b[0m\u001b[0m\n\u001b[0m\u001b[0;32m     19\u001b[0m \u001b[0mdf_val\u001b[0m \u001b[1;33m=\u001b[0m \u001b[0mdf_val\u001b[0m\u001b[1;33m.\u001b[0m\u001b[0mdrop\u001b[0m\u001b[1;33m(\u001b[0m\u001b[0mzero_cols\u001b[0m\u001b[1;33m)\u001b[0m\u001b[1;33m\u001b[0m\u001b[1;33m\u001b[0m\u001b[0m\n",
      "\u001b[1;32m~\\anaconda3\\lib\\site-packages\\pandas\\core\\frame.py\u001b[0m in \u001b[0;36mdrop\u001b[1;34m(self, labels, axis, index, columns, level, inplace, errors)\u001b[0m\n\u001b[0;32m   4303\u001b[0m                 \u001b[0mweight\u001b[0m  \u001b[1;36m1.0\u001b[0m     \u001b[1;36m0.8\u001b[0m\u001b[1;33m\u001b[0m\u001b[1;33m\u001b[0m\u001b[0m\n\u001b[0;32m   4304\u001b[0m         \"\"\"\n\u001b[1;32m-> 4305\u001b[1;33m         return super().drop(\n\u001b[0m\u001b[0;32m   4306\u001b[0m             \u001b[0mlabels\u001b[0m\u001b[1;33m=\u001b[0m\u001b[0mlabels\u001b[0m\u001b[1;33m,\u001b[0m\u001b[1;33m\u001b[0m\u001b[1;33m\u001b[0m\u001b[0m\n\u001b[0;32m   4307\u001b[0m             \u001b[0maxis\u001b[0m\u001b[1;33m=\u001b[0m\u001b[0maxis\u001b[0m\u001b[1;33m,\u001b[0m\u001b[1;33m\u001b[0m\u001b[1;33m\u001b[0m\u001b[0m\n",
      "\u001b[1;32m~\\anaconda3\\lib\\site-packages\\pandas\\core\\generic.py\u001b[0m in \u001b[0;36mdrop\u001b[1;34m(self, labels, axis, index, columns, level, inplace, errors)\u001b[0m\n\u001b[0;32m   4150\u001b[0m         \u001b[1;32mfor\u001b[0m \u001b[0maxis\u001b[0m\u001b[1;33m,\u001b[0m \u001b[0mlabels\u001b[0m \u001b[1;32min\u001b[0m \u001b[0maxes\u001b[0m\u001b[1;33m.\u001b[0m\u001b[0mitems\u001b[0m\u001b[1;33m(\u001b[0m\u001b[1;33m)\u001b[0m\u001b[1;33m:\u001b[0m\u001b[1;33m\u001b[0m\u001b[1;33m\u001b[0m\u001b[0m\n\u001b[0;32m   4151\u001b[0m             \u001b[1;32mif\u001b[0m \u001b[0mlabels\u001b[0m \u001b[1;32mis\u001b[0m \u001b[1;32mnot\u001b[0m \u001b[1;32mNone\u001b[0m\u001b[1;33m:\u001b[0m\u001b[1;33m\u001b[0m\u001b[1;33m\u001b[0m\u001b[0m\n\u001b[1;32m-> 4152\u001b[1;33m                 \u001b[0mobj\u001b[0m \u001b[1;33m=\u001b[0m \u001b[0mobj\u001b[0m\u001b[1;33m.\u001b[0m\u001b[0m_drop_axis\u001b[0m\u001b[1;33m(\u001b[0m\u001b[0mlabels\u001b[0m\u001b[1;33m,\u001b[0m \u001b[0maxis\u001b[0m\u001b[1;33m,\u001b[0m \u001b[0mlevel\u001b[0m\u001b[1;33m=\u001b[0m\u001b[0mlevel\u001b[0m\u001b[1;33m,\u001b[0m \u001b[0merrors\u001b[0m\u001b[1;33m=\u001b[0m\u001b[0merrors\u001b[0m\u001b[1;33m)\u001b[0m\u001b[1;33m\u001b[0m\u001b[1;33m\u001b[0m\u001b[0m\n\u001b[0m\u001b[0;32m   4153\u001b[0m \u001b[1;33m\u001b[0m\u001b[0m\n\u001b[0;32m   4154\u001b[0m         \u001b[1;32mif\u001b[0m \u001b[0minplace\u001b[0m\u001b[1;33m:\u001b[0m\u001b[1;33m\u001b[0m\u001b[1;33m\u001b[0m\u001b[0m\n",
      "\u001b[1;32m~\\anaconda3\\lib\\site-packages\\pandas\\core\\generic.py\u001b[0m in \u001b[0;36m_drop_axis\u001b[1;34m(self, labels, axis, level, errors)\u001b[0m\n\u001b[0;32m   4185\u001b[0m                 \u001b[0mnew_axis\u001b[0m \u001b[1;33m=\u001b[0m \u001b[0maxis\u001b[0m\u001b[1;33m.\u001b[0m\u001b[0mdrop\u001b[0m\u001b[1;33m(\u001b[0m\u001b[0mlabels\u001b[0m\u001b[1;33m,\u001b[0m \u001b[0mlevel\u001b[0m\u001b[1;33m=\u001b[0m\u001b[0mlevel\u001b[0m\u001b[1;33m,\u001b[0m \u001b[0merrors\u001b[0m\u001b[1;33m=\u001b[0m\u001b[0merrors\u001b[0m\u001b[1;33m)\u001b[0m\u001b[1;33m\u001b[0m\u001b[1;33m\u001b[0m\u001b[0m\n\u001b[0;32m   4186\u001b[0m             \u001b[1;32melse\u001b[0m\u001b[1;33m:\u001b[0m\u001b[1;33m\u001b[0m\u001b[1;33m\u001b[0m\u001b[0m\n\u001b[1;32m-> 4187\u001b[1;33m                 \u001b[0mnew_axis\u001b[0m \u001b[1;33m=\u001b[0m \u001b[0maxis\u001b[0m\u001b[1;33m.\u001b[0m\u001b[0mdrop\u001b[0m\u001b[1;33m(\u001b[0m\u001b[0mlabels\u001b[0m\u001b[1;33m,\u001b[0m \u001b[0merrors\u001b[0m\u001b[1;33m=\u001b[0m\u001b[0merrors\u001b[0m\u001b[1;33m)\u001b[0m\u001b[1;33m\u001b[0m\u001b[1;33m\u001b[0m\u001b[0m\n\u001b[0m\u001b[0;32m   4188\u001b[0m             \u001b[0mresult\u001b[0m \u001b[1;33m=\u001b[0m \u001b[0mself\u001b[0m\u001b[1;33m.\u001b[0m\u001b[0mreindex\u001b[0m\u001b[1;33m(\u001b[0m\u001b[1;33m**\u001b[0m\u001b[1;33m{\u001b[0m\u001b[0maxis_name\u001b[0m\u001b[1;33m:\u001b[0m \u001b[0mnew_axis\u001b[0m\u001b[1;33m}\u001b[0m\u001b[1;33m)\u001b[0m\u001b[1;33m\u001b[0m\u001b[1;33m\u001b[0m\u001b[0m\n\u001b[0;32m   4189\u001b[0m \u001b[1;33m\u001b[0m\u001b[0m\n",
      "\u001b[1;32m~\\anaconda3\\lib\\site-packages\\pandas\\core\\indexes\\base.py\u001b[0m in \u001b[0;36mdrop\u001b[1;34m(self, labels, errors)\u001b[0m\n\u001b[0;32m   5589\u001b[0m         \u001b[1;32mif\u001b[0m \u001b[0mmask\u001b[0m\u001b[1;33m.\u001b[0m\u001b[0many\u001b[0m\u001b[1;33m(\u001b[0m\u001b[1;33m)\u001b[0m\u001b[1;33m:\u001b[0m\u001b[1;33m\u001b[0m\u001b[1;33m\u001b[0m\u001b[0m\n\u001b[0;32m   5590\u001b[0m             \u001b[1;32mif\u001b[0m \u001b[0merrors\u001b[0m \u001b[1;33m!=\u001b[0m \u001b[1;34m\"ignore\"\u001b[0m\u001b[1;33m:\u001b[0m\u001b[1;33m\u001b[0m\u001b[1;33m\u001b[0m\u001b[0m\n\u001b[1;32m-> 5591\u001b[1;33m                 \u001b[1;32mraise\u001b[0m \u001b[0mKeyError\u001b[0m\u001b[1;33m(\u001b[0m\u001b[1;34mf\"{labels[mask]} not found in axis\"\u001b[0m\u001b[1;33m)\u001b[0m\u001b[1;33m\u001b[0m\u001b[1;33m\u001b[0m\u001b[0m\n\u001b[0m\u001b[0;32m   5592\u001b[0m             \u001b[0mindexer\u001b[0m \u001b[1;33m=\u001b[0m \u001b[0mindexer\u001b[0m\u001b[1;33m[\u001b[0m\u001b[1;33m~\u001b[0m\u001b[0mmask\u001b[0m\u001b[1;33m]\u001b[0m\u001b[1;33m\u001b[0m\u001b[1;33m\u001b[0m\u001b[0m\n\u001b[0;32m   5593\u001b[0m         \u001b[1;32mreturn\u001b[0m \u001b[0mself\u001b[0m\u001b[1;33m.\u001b[0m\u001b[0mdelete\u001b[0m\u001b[1;33m(\u001b[0m\u001b[0mindexer\u001b[0m\u001b[1;33m)\u001b[0m\u001b[1;33m\u001b[0m\u001b[1;33m\u001b[0m\u001b[0m\n",
      "\u001b[1;31mKeyError\u001b[0m: \"['X11' 'X93' 'X107' 'X233' 'X235' 'X236' 'X268' 'X288' 'X289' 'X290'\\n 'X293' 'X295' 'X296' 'X297' 'X319' 'X330' 'X339' 'X347'] not found in axis\""
     ]
    }
   ],
   "source": [
    "unique_dict = {}\n",
    "\n",
    "for col in df.columns:\n",
    "    if col not in categorical:\n",
    "        unique_value = str(np.sort(df[col].unique()).tolist())\n",
    "        temp = unique_dict.get(unique_value, [])\n",
    "        temp.append(col)\n",
    "        unique_dict[unique_value] = temp\n",
    "\n",
    "for k, v in unique_dict.items():\n",
    "    print(k)\n",
    "    print(v)\n",
    "    print()\n",
    "\n",
    "\n",
    "#Drop Columns with all zeros\n",
    "zero_cols = unique_dict.get('[0]')\n",
    "df = df.drop(zero_cols)\n",
    "df_val = df_val.drop(zero_cols)"
   ]
  },
  {
   "cell_type": "code",
   "execution_count": 139,
   "id": "hispanic-chart",
   "metadata": {},
   "outputs": [
    {
     "data": {
      "image/png": "[encoded data removed]",
      "text/plain": [
       "<Figure size 432x3600 with 1 Axes>"
      ]
     },
     "metadata": {
      "needs_background": "light"
     },
     "output_type": "display_data"
    },
    {
     "ename": "AttributeError",
     "evalue": "'DataFrame' object has no attribute 'y'",
     "output_type": "error",
     "traceback": [
      "\u001b[1;31m---------------------------------------------------------------------------\u001b[0m",
      "\u001b[1;31mAttributeError\u001b[0m                            Traceback (most recent call last)",
      "\u001b[1;32m<ipython-input-139-11b8ec2e87cb>\u001b[0m in \u001b[0;36m<module>\u001b[1;34m\u001b[0m\n\u001b[0;32m     24\u001b[0m \u001b[0mplt\u001b[0m\u001b[1;33m.\u001b[0m\u001b[0mshow\u001b[0m\u001b[1;33m(\u001b[0m\u001b[1;33m)\u001b[0m\u001b[1;33m\u001b[0m\u001b[1;33m\u001b[0m\u001b[0m\n\u001b[0;32m     25\u001b[0m \u001b[1;33m\u001b[0m\u001b[0m\n\u001b[1;32m---> 26\u001b[1;33m \u001b[0mprint\u001b[0m\u001b[1;33m(\u001b[0m\u001b[0mdf\u001b[0m\u001b[1;33m[\u001b[0m\u001b[1;33m(\u001b[0m\u001b[0mdf\u001b[0m\u001b[1;33m[\u001b[0m\u001b[0mcol\u001b[0m\u001b[1;33m]\u001b[0m\u001b[1;33m==\u001b[0m\u001b[1;36m1\u001b[0m\u001b[1;33m)\u001b[0m\u001b[1;33m]\u001b[0m\u001b[1;33m.\u001b[0m\u001b[0my\u001b[0m\u001b[1;33m.\u001b[0m\u001b[0mmean\u001b[0m\u001b[1;33m(\u001b[0m\u001b[1;33m)\u001b[0m\u001b[1;33m)\u001b[0m\u001b[1;33m\u001b[0m\u001b[1;33m\u001b[0m\u001b[0m\n\u001b[0m",
      "\u001b[1;32m~\\anaconda3\\lib\\site-packages\\pandas\\core\\generic.py\u001b[0m in \u001b[0;36m__getattr__\u001b[1;34m(self, name)\u001b[0m\n\u001b[0;32m   5460\u001b[0m             \u001b[1;32mif\u001b[0m \u001b[0mself\u001b[0m\u001b[1;33m.\u001b[0m\u001b[0m_info_axis\u001b[0m\u001b[1;33m.\u001b[0m\u001b[0m_can_hold_identifiers_and_holds_name\u001b[0m\u001b[1;33m(\u001b[0m\u001b[0mname\u001b[0m\u001b[1;33m)\u001b[0m\u001b[1;33m:\u001b[0m\u001b[1;33m\u001b[0m\u001b[1;33m\u001b[0m\u001b[0m\n\u001b[0;32m   5461\u001b[0m                 \u001b[1;32mreturn\u001b[0m \u001b[0mself\u001b[0m\u001b[1;33m[\u001b[0m\u001b[0mname\u001b[0m\u001b[1;33m]\u001b[0m\u001b[1;33m\u001b[0m\u001b[1;33m\u001b[0m\u001b[0m\n\u001b[1;32m-> 5462\u001b[1;33m             \u001b[1;32mreturn\u001b[0m \u001b[0mobject\u001b[0m\u001b[1;33m.\u001b[0m\u001b[0m__getattribute__\u001b[0m\u001b[1;33m(\u001b[0m\u001b[0mself\u001b[0m\u001b[1;33m,\u001b[0m \u001b[0mname\u001b[0m\u001b[1;33m)\u001b[0m\u001b[1;33m\u001b[0m\u001b[1;33m\u001b[0m\u001b[0m\n\u001b[0m\u001b[0;32m   5463\u001b[0m \u001b[1;33m\u001b[0m\u001b[0m\n\u001b[0;32m   5464\u001b[0m     \u001b[1;32mdef\u001b[0m \u001b[0m__setattr__\u001b[0m\u001b[1;33m(\u001b[0m\u001b[0mself\u001b[0m\u001b[1;33m,\u001b[0m \u001b[0mname\u001b[0m\u001b[1;33m:\u001b[0m \u001b[0mstr\u001b[0m\u001b[1;33m,\u001b[0m \u001b[0mvalue\u001b[0m\u001b[1;33m)\u001b[0m \u001b[1;33m->\u001b[0m \u001b[1;32mNone\u001b[0m\u001b[1;33m:\u001b[0m\u001b[1;33m\u001b[0m\u001b[1;33m\u001b[0m\u001b[0m\n",
      "\u001b[1;31mAttributeError\u001b[0m: 'DataFrame' object has no attribute 'y'"
     ]
    }
   ],
   "source": [
    "#Set Categorical Features Apart\n",
    "categorical_features = df[categorical]\n",
    "categorical_features\n",
    "\n",
    "val_categorical_features = df_val[categorical]\n",
    "\n",
    "\n",
    "#Binary Value Distribution\n",
    "non_zero_cols = unique_dict['[0, 1]']\n",
    "zero_counts = []\n",
    "one_counts = []\n",
    "for col in non_zero_cols:\n",
    "    zero_counts.append((df[col]==0).sum())\n",
    "    one_counts.append((df[col]==1).sum())\n",
    "    \n",
    "N = len(non_zero_cols)\n",
    "ind = np.arange(N)\n",
    "plt.figure(figsize=(6,50))\n",
    "p1 = plt.barh(ind, zero_counts, 0.35, color='red')\n",
    "p2 = plt.barh(ind, one_counts, 0.35, left=zero_counts, color=\"blue\")\n",
    "plt.yticks(ind, non_zero_cols)\n",
    "plt.legend((p1[0], p2[0]), ('Zero count', 'One Count'))\n",
    "plt.show()\n",
    "plt.show()\n"
   ]
  },
  {
   "cell_type": "code",
   "execution_count": 114,
   "id": "pursuant-alpha",
   "metadata": {},
   "outputs": [
    {
     "name": "stdout",
     "output_type": "stream",
     "text": [
      "X0      0\n",
      "X255    0\n",
      "X264    0\n",
      "X263    0\n",
      "X262    0\n",
      "dtype: int64\n",
      "\n",
      "\n",
      "Xtrain       X10  X11  X12  X13  X14  X15  X16  X17  X18  X19  ...  X375  X376  X377  \\\n",
      "ID                                                      ...                     \n",
      "7547    0    0    0    1    1    0    0    0    0    0  ...     0     0     1   \n",
      "\n",
      "      X378  X379  X380  X382  X383  X384  X385  \n",
      "ID                                              \n",
      "7547     0     0     0     0     0     0     0  \n",
      "\n",
      "[1 rows x 368 columns]\n",
      "Ytrain ID\n",
      "7547    108.2\n",
      "Name: y, dtype: float64\n"
     ]
    },
    {
     "ename": "KeyError",
     "evalue": "'[[0, 1]]'",
     "output_type": "error",
     "traceback": [
      "\u001b[1;31m---------------------------------------------------------------------------\u001b[0m",
      "\u001b[1;31mKeyError\u001b[0m                                  Traceback (most recent call last)",
      "\u001b[1;32m<ipython-input-114-58f214133753>\u001b[0m in \u001b[0;36m<module>\u001b[1;34m\u001b[0m\n\u001b[0;32m     13\u001b[0m \u001b[0mprint\u001b[0m\u001b[1;33m(\u001b[0m\u001b[1;34m\"Ytrain\"\u001b[0m\u001b[1;33m,\u001b[0m \u001b[0my\u001b[0m\u001b[1;33m.\u001b[0m\u001b[0mhead\u001b[0m\u001b[1;33m(\u001b[0m\u001b[1;36m1\u001b[0m\u001b[1;33m)\u001b[0m\u001b[1;33m)\u001b[0m\u001b[1;33m\u001b[0m\u001b[1;33m\u001b[0m\u001b[0m\n\u001b[0;32m     14\u001b[0m \u001b[1;33m\u001b[0m\u001b[0m\n\u001b[1;32m---> 15\u001b[1;33m \u001b[0mnon_zero_cols\u001b[0m \u001b[1;33m=\u001b[0m \u001b[0munique_dict\u001b[0m\u001b[1;33m[\u001b[0m\u001b[1;34m'[[0, 1]]'\u001b[0m\u001b[1;33m]\u001b[0m\u001b[1;33m\u001b[0m\u001b[1;33m\u001b[0m\u001b[0m\n\u001b[0m\u001b[0;32m     16\u001b[0m \u001b[0mprint\u001b[0m\u001b[1;33m(\u001b[0m\u001b[0mnon_zero_cols\u001b[0m\u001b[1;33m)\u001b[0m\u001b[1;33m\u001b[0m\u001b[1;33m\u001b[0m\u001b[0m\n",
      "\u001b[1;31mKeyError\u001b[0m: '[[0, 1]]'"
     ]
    }
   ],
   "source": [
    "#Check for any Null Values\n",
    "print(df.isnull().sum(axis=0).sort_values(ascending=False).head(5))\n",
    "#No Null Values\n",
    "\n",
    "print()\n",
    "print()\n",
    "#Remove Categorical from the Original Dataset\n",
    "\n",
    "df = df.drop(categorical, axis=1)\n",
    "df_val = df_val.drop(categorical, axis=1)\n",
    "\n",
    "print(\"Xtrain\", df.head(1))\n",
    "print(\"Ytrain\", y.head(1))"
   ]
  },
  {
   "cell_type": "code",
   "execution_count": 8,
   "id": "liberal-jewelry",
   "metadata": {},
   "outputs": [
    {
     "name": "stdout",
     "output_type": "stream",
     "text": [
      "0\n"
     ]
    },
    {
     "data": {
      "image/png": "[encoded data removed]",
      "text/plain": [
       "<Figure size 432x288 with 1 Axes>"
      ]
     },
     "metadata": {
      "needs_background": "light"
     },
     "output_type": "display_data"
    }
   ],
   "source": [
    "#Zero Features\n",
    "\n",
    "column_names = df.columns\n",
    "\n",
    "zero_counts = (df==0).sum(axis=0).sort_values(ascending=False)\n",
    "zero_counts_val = (df_val==0).sum(axis=0).sort_values(ascending=False)\n",
    "\n",
    "zero_counts = zero_counts[:-1]\n",
    "zero_counts_val = zero_counts_val[:-1]\n",
    "\n",
    "zero_counts.plot.bar()\n",
    "print(zero_counts[zero_counts > 4000].count())"
   ]
  },
  {
   "cell_type": "code",
   "execution_count": 9,
   "id": "lyric-warner",
   "metadata": {},
   "outputs": [
    {
     "name": "stdout",
     "output_type": "stream",
     "text": [
      "Index([], dtype='object')\n",
      "      X0  X10  X11  X12  X13  X14  X15  X16  X17  X18  ...  X375  X376  X377  \\\n",
      "ID                                                     ...                     \n",
      "2140  al    0    0    0    0    0    0    0    0    0  ...     0     0     0   \n",
      "310    f    0    0    0    0    0    0    0    0    0  ...     0     0     0   \n",
      "4779   j    1    0    0    0    0    0    0    0    0  ...     1     0     0   \n",
      "385   az    0    0    0    0    0    0    0    1    0  ...     0     0     0   \n",
      "5180  ak    0    0    0    0    0    0    0    0    0  ...     0     0     0   \n",
      "...   ..  ...  ...  ...  ...  ...  ...  ...  ...  ...  ...   ...   ...   ...   \n",
      "565    w    0    0    0    0    1    0    0    0    0  ...     1     0     0   \n",
      "5538   y    0    0    1    0    0    0    0    0    0  ...     0     0     0   \n",
      "5666  az    0    0    1    0    0    0    0    0    0  ...     0     0     0   \n",
      "7543   j    0    0    0    0    1    0    0    0    0  ...     0     0     1   \n",
      "2948   t    0    0    0    0    0    0    0    0    0  ...     0     0     1   \n",
      "\n",
      "      X378  X379  X380  X382  X383  X384  X385  \n",
      "ID                                              \n",
      "2140     0     0     0     0     0     0     0  \n",
      "310      0     0     0     0     0     0     0  \n",
      "4779     0     0     0     0     0     0     0  \n",
      "385      0     0     0     1     0     0     0  \n",
      "5180     0     0     0     0     0     0     0  \n",
      "...    ...   ...   ...   ...   ...   ...   ...  \n",
      "565      0     0     0     0     0     0     0  \n",
      "5538     0     0     0     0     0     0     0  \n",
      "5666     1     0     0     0     0     0     0  \n",
      "7543     0     0     0     0     0     0     0  \n",
      "2948     0     0     0     0     0     0     0  \n",
      "\n",
      "[1053 rows x 369 columns]\n",
      "ID\n",
      "2140     97.94\n",
      "310      96.41\n",
      "4779    105.83\n",
      "385      79.09\n",
      "5180    108.69\n",
      "         ...  \n",
      "565     108.31\n",
      "5538     94.95\n",
      "5666     76.22\n",
      "7543    107.34\n",
      "2948     96.87\n",
      "Name: y, Length: 1053, dtype: float64\n"
     ]
    }
   ],
   "source": [
    "#Drop Zero Features\n",
    "\n",
    "sparse_features = zero_counts[zero_counts > 4100].index\n",
    "sparse_features_val = zero_counts_val[zero_counts_val>4100].index\n",
    "\n",
    "print(sparse_features)\n",
    "\n",
    "df = df.drop(sparse_features, axis=1)\n",
    "df_val = df_val.drop(sparse_features_val, axis=1)\n",
    "print(df_val)\n",
    "print(y_val)"
   ]
  },
  {
   "cell_type": "code",
   "execution_count": 10,
   "id": "exceptional-network",
   "metadata": {},
   "outputs": [
    {
     "name": "stdout",
     "output_type": "stream",
     "text": [
      "      X10  X11  X12  X13  X14  X15  X16  X17  X18  X19  ...  X375  X376  X377  \\\n",
      "ID                                                      ...                     \n",
      "7547    0    0    0    1    1    0    0    0    0    0  ...     0     0     1   \n",
      "5381    0    0    0    0    1    0    0    0    0    0  ...     1     0     0   \n",
      "2549    0    0    1    0    0    0    0    0    0    0  ...     0     0     0   \n",
      "\n",
      "      X378  X379  X380  X382  X383  X384  X385  \n",
      "ID                                              \n",
      "7547     0     0     0     0     0     0     0  \n",
      "5381     0     0     0     0     0     0     0  \n",
      "2549     0     0     0     0     0     0     0  \n",
      "\n",
      "[3 rows x 368 columns]\n",
      "Smallest Value\n",
      "X10    0\n",
      "dtype: int64\n",
      "\n",
      "Largest Value\n",
      "X10    1\n",
      "dtype: int64\n"
     ]
    }
   ],
   "source": [
    "#Extract Numerical Features. No need to Scale\n",
    "\n",
    "PCA_features = df.iloc[:, 1:]\n",
    "PCA_features_val = df_val.iloc[:, 1:]\n",
    "\n",
    "print(PCA_features.head(3))\n",
    "\n",
    "print(\"Smallest Value\")\n",
    "print(PCA_features.min().sort_values(ascending=True).head(1))\n",
    "print()\n",
    "print(\"Largest Value\")\n",
    "print(PCA_features.max().sort_values(ascending=False).head(1))\n"
   ]
  },
  {
   "cell_type": "code",
   "execution_count": 33,
   "id": "certified-trouble",
   "metadata": {},
   "outputs": [],
   "source": [
    "#Perform PCA Var threshold is to be validated\n",
    "\n",
    "from sklearn.decomposition import PCA\n",
    "\n",
    "variance_threshold = 71\n",
    "pca = PCA(n_components = variance_threshold)\n",
    "pca.fit(PCA_features)\n",
    "reduced_PCA_features = pca.transform(PCA_features)\n",
    "reduced_PCA_features = pd.DataFrame(reduced_PCA_features)\n",
    "reduced_PCA_features\n",
    "\n",
    "pca.fit(PCA_features_val)\n",
    "reduced_PCA_features_val = pca.transform(PCA_features_val)\n",
    "reduced_PCA_features_val = pd.DataFrame(reduced_PCA_features_val)"
   ]
  },
  {
   "cell_type": "code",
   "execution_count": 34,
   "id": "acceptable-double",
   "metadata": {},
   "outputs": [
    {
     "name": "stdout",
     "output_type": "stream",
     "text": [
      "[0.1343524  0.08674761 0.08229924 0.06639626 0.05683099 0.04806584\n",
      " 0.03930883 0.03300435 0.02746327 0.02733082 0.02454332 0.02005069\n",
      " 0.01744093 0.01693661 0.01573672 0.01433292 0.01336316 0.01218881\n",
      " 0.01102201 0.01071835 0.01054009 0.00957927 0.00881563 0.00850192\n",
      " 0.00810746 0.00783178 0.00727347 0.00701311 0.00660469 0.00626034\n",
      " 0.00568977 0.00548378 0.00515387 0.00494097 0.00460996 0.00450605\n",
      " 0.00414812 0.004107   0.00394358 0.00378496 0.00356834 0.00352031\n",
      " 0.00332854 0.00311906 0.00307971 0.00302066 0.00284892 0.00273465\n",
      " 0.00256214 0.00251872 0.00246067 0.00237612 0.00229695 0.00223034\n",
      " 0.0021585  0.00213475 0.00205028 0.00198292 0.00192037 0.00181433\n",
      " 0.00180198 0.00169214 0.00166047 0.00163476 0.00156459 0.00154224\n",
      " 0.00148914 0.00145313 0.0014022  0.0013409  0.00130012]\n",
      "[56.87902304 45.70441549 44.51714656 39.98537881 36.99320836 34.0210471\n",
      " 30.76624395 28.19129473 25.71612734 25.65403916 24.31062007 21.97324041\n",
      " 20.49340918 20.1949465  19.46644049 18.57790254 17.93840904 17.13207543\n",
      " 16.2914554  16.06546959 15.93131485 15.18782953 14.56988229 14.30829756\n",
      " 13.97242236 13.73281334 13.23427996 12.9952548  12.61117508 12.27802178\n",
      " 11.70514909 11.49130848 11.14028152 10.9077584  10.5360585  10.41663272\n",
      "  9.99435981  9.94470713  9.74484554  9.54685334  9.26963055  9.2070364\n",
      "  8.95275049  8.66645321  8.61161213  8.52864448  8.2826532   8.11484696\n",
      "  7.85472023  7.78788729  7.6976138   7.56420597  7.43713087  7.32850547\n",
      "  7.20950565  7.16973771  7.02644308  6.9100594   6.80019522  6.60978239\n",
      "  6.58725058  6.38333188  6.32331534  6.27417217  6.13803383  6.09404144\n",
      "  5.98821372  5.9153695   5.81077531  5.68234318  5.59526145]\n",
      "Remaining Dimension: 71\n"
     ]
    }
   ],
   "source": [
    "print(pca.explained_variance_ratio_)\n",
    "print(pca.singular_values_)\n",
    "print(\"Remaining Dimension:\", len(pca.singular_values_))"
   ]
  },
  {
   "cell_type": "code",
   "execution_count": 35,
   "id": "primary-dinner",
   "metadata": {},
   "outputs": [
    {
     "name": "stdout",
     "output_type": "stream",
     "text": [
      "  X1  X2 X3 X4  X5 X6 X8         0         1         2  ...        61  \\\n",
      "0  s  as  a  d   v  l  t -1.960588  1.070596  2.395769  ... -0.423283   \n",
      "1  s  as  e  d   m  j  e -1.625191  0.035866  0.503722  ...  0.492119   \n",
      "2  r  ak  f  d  ac  g  o  0.897316 -0.344157 -2.146326  ... -0.093422   \n",
      "3  b  ae  c  d   n  b  m  2.530759  0.089503  1.807132  ...  0.407494   \n",
      "4  s  as  c  d   d  j  q -2.808520 -0.339913  0.811773  ... -0.089353   \n",
      "\n",
      "         62        63        64        65        66        67        68  \\\n",
      "0  0.040577  0.464906 -0.457457  0.054584  0.011782 -0.292063 -0.099732   \n",
      "1 -0.159355 -0.015800  0.005713 -0.096868  0.039810  0.161944  0.082493   \n",
      "2  0.194736 -0.074303 -0.180298  0.022907  0.072341  0.289824 -0.028712   \n",
      "3  0.141724  0.081115 -0.389980 -0.037938  0.179361  0.204228  0.286053   \n",
      "4  0.048839  0.022872  0.101766  0.005092  0.117049 -0.028278  0.063537   \n",
      "\n",
      "         69        70  \n",
      "0 -0.081852  0.208772  \n",
      "1 -0.074972 -0.234899  \n",
      "2 -0.101197 -0.103340  \n",
      "3 -0.327519  0.099181  \n",
      "4 -0.032956  0.005872  \n",
      "\n",
      "[5 rows x 78 columns]\n",
      "   X1  X2 X3 X4  X5 X6 X8         0         1         2  ...        61  \\\n",
      "0   o  ai  f  d  ag  j  l  1.211304  3.019384 -0.361645  ...  0.210773   \n",
      "1   l  ae  f  d   i  i  w -0.434870  1.478799  1.958629  ... -0.148000   \n",
      "2  aa  ay  c  d   n  l  o  0.551646  0.106320 -0.348694  ...  0.251726   \n",
      "3   y   b  c  d   i  j  l -0.778573  0.837661  1.768192  ... -0.699345   \n",
      "4   v  ak  d  d   m  i  r -1.430341  0.698965  0.694077  ... -0.456541   \n",
      "\n",
      "         62        63        64        65        66        67        68  \\\n",
      "0 -0.096857 -0.109853  0.143905  0.180329 -0.316019 -0.119759 -0.152052   \n",
      "1  0.018188 -0.080465  0.044708  0.056356 -0.177275 -0.022739  0.044991   \n",
      "2 -0.074804 -0.369176  0.280501 -0.041856 -0.104688 -0.040068  0.036898   \n",
      "3 -0.463523 -0.543150 -0.349959 -0.199378 -0.486851 -0.311238  0.067054   \n",
      "4 -0.057540  0.007142  0.110621 -0.356555 -0.067171 -0.017310 -0.145421   \n",
      "\n",
      "         69        70  \n",
      "0  0.175183  0.028050  \n",
      "1 -0.020294  0.111928  \n",
      "2 -0.017673 -0.118896  \n",
      "3 -0.407019 -0.098249  \n",
      "4 -0.203911 -0.060532  \n",
      "\n",
      "[5 rows x 78 columns]\n"
     ]
    }
   ],
   "source": [
    "#Merge with Categorical features\n",
    "\n",
    "categorical_features.index = list(range(len(reduced_PCA_features)))\n",
    "val_categorical_features.index = list(range(len(reduced_PCA_features_val)))\n",
    "\n",
    "df = pd.concat([categorical_features, reduced_PCA_features], axis=1)\n",
    "print(df.head())\n",
    "df_val = pd.concat([val_categorical_features, reduced_PCA_features_val], axis=1)\n",
    "print(df_val.head())"
   ]
  },
  {
   "cell_type": "code",
   "execution_count": 36,
   "id": "formal-settlement",
   "metadata": {},
   "outputs": [],
   "source": [
    "#Two types of Encoder for CV\n",
    "\n",
    "from sklearn.preprocessing import LabelEncoder\n",
    "from sklearn.preprocessing import MinMaxScaler\n",
    "\n",
    "scaler = MinMaxScaler()\n",
    "\n",
    "def LabelEncoding(df):\n",
    "    new_df = df\n",
    "    for i in categorical:\n",
    "        new_df[i] = new_df[i].astype('category')\n",
    "        new_df[i] = new_df[i].cat.codes\n",
    "    new_df[categorical] = scaler.fit_transform(new_df[categorical])\n",
    "        \n",
    "    return new_df\n",
    "\n",
    "def OneHotEncoding(df):\n",
    "    new_df = pd.DataFrame()\n",
    "    for c in categorical:\n",
    "        new_df = pd.concat([new_df, pd.get_dummies(categorical_features[c], prefix=c)], axis=1)\n",
    "        #print(pd.get_dummies(categorical_features[c], prefix=c))\n",
    "    return new_df"
   ]
  },
  {
   "cell_type": "code",
   "execution_count": 37,
   "id": "ethical-value",
   "metadata": {},
   "outputs": [
    {
     "name": "stdout",
     "output_type": "stream",
     "text": [
      "         X1        X2        X3   X4        X5        X6        X8         0  \\\n",
      "0  0.769231  0.380952  0.000000  1.0  0.892857  1.000000  0.791667 -1.960588   \n",
      "1  0.769231  0.380952  0.666667  1.0  0.607143  0.818182  0.166667 -1.625191   \n",
      "2  0.730769  0.190476  0.833333  1.0  0.071429  0.545455  0.583333  0.897316   \n",
      "\n",
      "          1         2  ...        61        62        63        64        65  \\\n",
      "0  1.070596  2.395769  ... -0.423283  0.040577  0.464906 -0.457457  0.054584   \n",
      "1  0.035866  0.503722  ...  0.492119 -0.159355 -0.015800  0.005713 -0.096868   \n",
      "2 -0.344157 -2.146326  ... -0.093422  0.194736 -0.074303 -0.180298  0.022907   \n",
      "\n",
      "         66        67        68        69        70  \n",
      "0  0.011782 -0.292063 -0.099732 -0.081852  0.208772  \n",
      "1  0.039810  0.161944  0.082493 -0.074972 -0.234899  \n",
      "2  0.072341  0.289824 -0.028712 -0.101197 -0.103340  \n",
      "\n",
      "[3 rows x 78 columns]\n",
      "   X1_a  X1_aa  X1_ab  X1_b  X1_c  X1_d  X1_e  X1_f  X1_g  X1_h  ...  X8_p  \\\n",
      "0     0      0      0     0     0     0     0     0     0     0  ...     0   \n",
      "1     0      0      0     0     0     0     0     0     0     0  ...     0   \n",
      "2     0      0      0     0     0     0     0     0     0     0  ...     0   \n",
      "\n",
      "   X8_q  X8_r  X8_s  X8_t  X8_u  X8_v  X8_w  X8_x  X8_y  \n",
      "0     0     0     0     1     0     0     0     0     0  \n",
      "1     0     0     0     0     0     0     0     0     0  \n",
      "2     0     0     0     0     0     0     0     0     0  \n",
      "\n",
      "[3 rows x 147 columns]\n"
     ]
    }
   ],
   "source": [
    "Label_encoded_df = LabelEncoding(df)\n",
    "print(Label_encoded_df.head(3))\n",
    "\n",
    "One_hot_encoded_df = OneHotEncoding(df[categorical])\n",
    "#One_hot_encoded = One_hot_encoded_df.drop([categorical])\n",
    "print(One_hot_encoded_df.head(3))\n",
    "\n",
    "Label_encoded_df_val = LabelEncoding(df_val)\n",
    "One_hot_encoded_df_val = OneHotEncoding(df_val[categorical])"
   ]
  },
  {
   "cell_type": "code",
   "execution_count": 49,
   "id": "rural-individual",
   "metadata": {},
   "outputs": [
    {
     "data": {
      "text/plain": [
       "SVR()"
      ]
     },
     "execution_count": 49,
     "metadata": {},
     "output_type": "execute_result"
    }
   ],
   "source": [
    "#Random Forest, SVM to perform Regression\n",
    "\n",
    "from sklearn.ensemble import RandomForestRegressor\n",
    "from sklearn import svm\n",
    "\n",
    "rf_regressor = RandomForestRegressor(max_depth=30, random_state=0)\n",
    "rf_regressor.fit(Label_encoded_df, y)\n",
    "\n",
    "svm_regressor = svm.SVR()\n",
    "svm_regressor.fit(Label_encoded_df, y)"
   ]
  },
  {
   "cell_type": "code",
   "execution_count": null,
   "id": "australian-solomon",
   "metadata": {},
   "outputs": [],
   "source": []
  },
  {
   "cell_type": "code",
   "execution_count": null,
   "id": "popular-mercury",
   "metadata": {},
   "outputs": [],
   "source": []
  },
  {
   "cell_type": "code",
   "execution_count": null,
   "id": "floating-shift",
   "metadata": {},
   "outputs": [],
   "source": []
  },
  {
   "cell_type": "code",
   "execution_count": null,
   "id": "decreased-joshua",
   "metadata": {},
   "outputs": [],
   "source": [
    "#Try 2"
   ]
  },
  {
   "cell_type": "code",
   "execution_count": 173,
   "id": "planned-wallace",
   "metadata": {},
   "outputs": [
    {
     "ename": "ModuleNotFoundError",
     "evalue": "No module named 'xgboost'",
     "output_type": "error",
     "traceback": [
      "\u001b[1;31m---------------------------------------------------------------------------\u001b[0m",
      "\u001b[1;31mModuleNotFoundError\u001b[0m                       Traceback (most recent call last)",
      "\u001b[1;32m<ipython-input-173-50db4810fba3>\u001b[0m in \u001b[0;36m<module>\u001b[1;34m\u001b[0m\n\u001b[1;32m----> 1\u001b[1;33m \u001b[1;32mimport\u001b[0m \u001b[0mxgboost\u001b[0m \u001b[1;32mas\u001b[0m \u001b[0mxgb\u001b[0m\u001b[1;33m\u001b[0m\u001b[1;33m\u001b[0m\u001b[0m\n\u001b[0m\u001b[0;32m      2\u001b[0m \u001b[1;33m\u001b[0m\u001b[0m\n\u001b[0;32m      3\u001b[0m \u001b[0mtrain_df\u001b[0m \u001b[1;33m=\u001b[0m \u001b[0mpd\u001b[0m\u001b[1;33m.\u001b[0m\u001b[0mread_csv\u001b[0m\u001b[1;33m(\u001b[0m\u001b[1;34m\"../input/train.csv\"\u001b[0m\u001b[1;33m)\u001b[0m\u001b[1;33m\u001b[0m\u001b[1;33m\u001b[0m\u001b[0m\n\u001b[0;32m      4\u001b[0m \u001b[0mtest_df\u001b[0m \u001b[1;33m=\u001b[0m \u001b[0mpd\u001b[0m\u001b[1;33m.\u001b[0m\u001b[0mread_csv\u001b[0m\u001b[1;33m(\u001b[0m\u001b[1;34m\"../input/test.csv\"\u001b[0m\u001b[1;33m)\u001b[0m\u001b[1;33m\u001b[0m\u001b[1;33m\u001b[0m\u001b[0m\n\u001b[0;32m      5\u001b[0m \u001b[1;33m\u001b[0m\u001b[0m\n",
      "\u001b[1;31mModuleNotFoundError\u001b[0m: No module named 'xgboost'"
     ]
    }
   ],
   "source": [
    "import xgboost as xgb\n",
    "\n",
    "train_df = pd.read_csv(\"../input/train.csv\")\n",
    "test_df = pd.read_csv(\"../input/test.csv\")\n",
    "\n",
    "for f in [\"X0\", \"X1\", \"X2\", \"X3\", \"X4\", \"X5\", \"X6\", \"X8\"]:\n",
    "        lbl = preprocessing.LabelEncoder()\n",
    "        lbl.fit(list(train_df[f].values)) \n",
    "        train_df[f] = lbl.transform(list(train_df[f].values))\n",
    "\n",
    "train_y = train_df['y'].values\n",
    "\n",
    "def xgb_r2_score(preds, dtrain):\n",
    "    labels = dtrain.get_label()\n",
    "    return 'r2', r2_score(labels, preds)\n",
    "\n",
    "xgb_params = {\n",
    "    'eta': 0.05,\n",
    "    'max_depth': 6,\n",
    "    'subsample': 0.7,\n",
    "    'colsample_bytree': 0.7,\n",
    "    'objective': 'reg:linear',\n",
    "    'silent': 1\n",
    "}\n",
    "dtrain = xgb.DMatrix(train_X, train_y, feature_names=train_X.columns.values)\n",
    "model = xgb.train(dict(xgb_params, silent=0), dtrain, num_boost_round=100, feval=xgb_r2_score, maximize=True)\n",
    "\n",
    "# plot the important features #\n",
    "fig, ax = plt.subplots(figsize=(12,18))\n",
    "xgb.plot_importance(model, max_num_features=50, height=0.8, ax=ax)\n",
    "plt.show()"
   ]
  },
  {
   "cell_type": "code",
   "execution_count": null,
   "id": "independent-roulette",
   "metadata": {},
   "outputs": [],
   "source": []
  }
 ],
 "metadata": {
  "kernelspec": {
   "display_name": "Python 3",
   "language": "python",
   "name": "python3"
  },
  "language_info": {
   "codemirror_mode": {
    "name": "ipython",
    "version": 3
   },
   "file_extension": ".py",
   "mimetype": "text/x-python",
   "name": "python",
   "nbconvert_exporter": "python",
   "pygments_lexer": "ipython3",
   "version": "3.8.3"
  }
 },
 "nbformat": 4,
 "nbformat_minor": 5
}
